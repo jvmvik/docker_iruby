{
 "cells": [
  {
   "cell_type": "markdown",
   "metadata": {},
   "source": [
    "### Explore Ruby capabilities"
   ]
  },
  {
   "cell_type": "code",
   "execution_count": null,
   "metadata": {
    "collapsed": true
   },
   "outputs": [],
   "source": [
    "# Display Ruby version inline\n",
    "puts RUBY_VERSION"
   ]
  },
  {
   "cell_type": "markdown",
   "metadata": {},
   "source": [
    "Code completion is available with Jupyter\n",
    " press \"Tab\" key to complete the code."
   ]
  },
  {
   "cell_type": "code",
   "execution_count": 8,
   "metadata": {
    "collapsed": false
   },
   "outputs": [
    {
     "data": {
      "text/html": [
       "<ul><li>bigdecimal</li><li>bond</li><li>czmq-ffi-gen</li><li>cztop</li><li>data_uri</li><li>ffi</li><li>io-console</li><li>iruby</li><li>json</li><li>mimemagic</li><li>minitest</li><li>multi_json</li><li>psych</li><li>rake</li><li>rake</li><li>rdoc</li><li>specific_install</li><li>test-unit</li></ul>"
      ],
      "text/plain": [
       "\"<ul><li>bigdecimal</li><li>bond</li><li>czmq-ffi-gen</li><li>cztop</li><li>data_uri</li><li>ffi</li><li>io-console</li><li>iruby</li><li>json</li><li>mimemagic</li><li>minitest</li><li>multi_json</li><li>psych</li><li>rake</li><li>rake</li><li>rdoc</li><li>specific_install</li><li>test-unit</li></ul>\""
      ]
     },
     "execution_count": 8,
     "metadata": {},
     "output_type": "execute_result"
    }
   ],
   "source": [
    "# Show all the Ruby extension available (GEM)\n",
    "IRuby.html \"<ul>\" + Gem::Specification.map {|a| '<li>' + a.name + '</li>'}.join + '</ul>' "
   ]
  },
  {
   "cell_type": "code",
   "execution_count": null,
   "metadata": {
    "collapsed": true
   },
   "outputs": [],
   "source": []
  }
 ],
 "metadata": {
  "kernelspec": {
   "display_name": "Ruby 2.1.5",
   "language": "ruby",
   "name": "ruby"
  },
  "language_info": {
   "file_extension": ".rb",
   "mimetype": "application/x-ruby",
   "name": "ruby",
   "version": "2.1.5"
  }
 },
 "nbformat": 4,
 "nbformat_minor": 2
}
