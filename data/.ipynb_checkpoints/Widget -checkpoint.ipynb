{
 "cells": [
  {
   "cell_type": "markdown",
   "metadata": {},
   "source": [
    "#### Show how to create JS widget within a notebook"
   ]
  },
  {
   "cell_type": "markdown",
   "metadata": {},
   "source": [
    "Simple button with click"
   ]
  },
  {
   "cell_type": "code",
   "execution_count": 4,
   "metadata": {
    "collapsed": false
   },
   "outputs": [
    {
     "data": {
      "text/html": [
       "\n",
       "<button onclick='action()'>click here</button>\n",
       "<script>\n",
       "function action()\n",
       "{\n",
       "  alert('button clicked')\n",
       "}\n",
       "</script>\n"
      ],
      "text/plain": [
       "\"\\n<button onclick='action()'>click here</button>\\n<script>\\nfunction action()\\n{\\n  alert('button clicked')\\n}\\n</script>\\n\""
      ]
     },
     "execution_count": 4,
     "metadata": {},
     "output_type": "execute_result"
    }
   ],
   "source": [
    "IRuby.html %q(\n",
    "<button onclick='action()'>click here</button>\n",
    "<script>\n",
    "function action()\n",
    "{\n",
    "  alert('button clicked')\n",
    "}\n",
    "</script>\n",
    ")"
   ]
  },
  {
   "cell_type": "markdown",
   "metadata": {},
   "source": [
    "Populate a HTML div from JS function"
   ]
  },
  {
   "cell_type": "code",
   "execution_count": 5,
   "metadata": {
    "collapsed": false
   },
   "outputs": [
    {
     "data": {
      "text/html": [
       "\n",
       "<div id=\"main\"></div>\n",
       "<script>\n",
       "let main = document.getElementById('main')\n",
       "main.innerHTML = '<b>Javascript created this content</b>'\n",
       "</script>\n"
      ],
      "text/plain": [
       "\"\\n<div id=\\\"main\\\"></div>\\n<script>\\nlet main = document.getElementById('main')\\nmain.innerHTML = '<b>Javascript created this content</b>'\\n</script>\\n\""
      ]
     },
     "execution_count": 5,
     "metadata": {},
     "output_type": "execute_result"
    }
   ],
   "source": [
    "IRuby.html %q(\n",
    "<div id=\"main\"></div>\n",
    "<script>\n",
    "let main = document.getElementById('main')\n",
    "main.innerHTML = '<b>Javascript created this content</b>'\n",
    "</script>\n",
    ")"
   ]
  },
  {
   "cell_type": "markdown",
   "metadata": {},
   "source": [
    "Now let's inject JS code from Ruby"
   ]
  },
  {
   "cell_type": "code",
   "execution_count": 6,
   "metadata": {
    "collapsed": false
   },
   "outputs": [
    {
     "data": {
      "text/html": [
       "<div id=\"time\">ready</div>\n",
       "        <script>\n",
       "      function showTime()\n",
       "      { \n",
       "        var d = new Date()\n",
       "        var n = d.getTime()\n",
       "        var main = document.getElementById('time')\n",
       "        main.innerHTML = `Duration since computing age started: ${n} ms`\n",
       "      }\n",
       "      setInterval(showTime, 1000)\n",
       "    </script>"
      ],
      "text/plain": [
       "\"<div id=\\\"time\\\">ready</div>\\n        <script>\\n      function showTime()\\n      { \\n        var d = new Date()\\n        var n = d.getTime()\\n        var main = document.getElementById('time')\\n        main.innerHTML = `Duration since computing age started: ${n} ms`\\n      }\\n      setInterval(showTime, 1000)\\n    </script>\""
      ]
     },
     "execution_count": 6,
     "metadata": {},
     "output_type": "execute_result"
    }
   ],
   "source": [
    "class RubyWidget\n",
    "  def initialize(id)\n",
    "    @id = id\n",
    "  end\n",
    "  \n",
    "  def html\n",
    "     %Q(<div id=\"#{@id}\">ready</div>\n",
    "        <script>#{js}</script>)\n",
    "  end\n",
    "  \n",
    "  def js() \n",
    "    %Q(\n",
    "      function showTime()\n",
    "      { \n",
    "        var d = new Date()\n",
    "        var n = d.getTime()\n",
    "        var main = document.getElementById('#{@id}')\n",
    "        main.innerHTML = `Duration since computing age started: ${n} ms`\n",
    "      }\n",
    "      setInterval(showTime, 1000)\n",
    "    )\n",
    " end\n",
    "end\n",
    "\n",
    "IRuby.html(RubyWidget.new('time').html)"
   ]
  },
  {
   "cell_type": "code",
   "execution_count": null,
   "metadata": {
    "collapsed": true
   },
   "outputs": [],
   "source": []
  }
 ],
 "metadata": {
  "kernelspec": {
   "display_name": "Ruby 2.1.5",
   "language": "ruby",
   "name": "ruby"
  },
  "language_info": {
   "file_extension": ".rb",
   "mimetype": "application/x-ruby",
   "name": "ruby",
   "version": "2.1.5"
  }
 },
 "nbformat": 4,
 "nbformat_minor": 2
}
