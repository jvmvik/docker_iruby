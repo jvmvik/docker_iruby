{
 "cells": [
  {
   "cell_type": "code",
   "execution_count": 1,
   "metadata": {
    "collapsed": false
   },
   "outputs": [
    {
     "data": {
      "text/plain": [
       "{:h=>400, :w=>400, :tick=>5}"
      ]
     },
     "execution_count": 1,
     "metadata": {},
     "output_type": "execute_result"
    }
   ],
   "source": [
    "IMAGE = {\n",
    "  h: 400,\n",
    "  w: 400,\n",
    "  tick: 5\n",
    "}"
   ]
  },
  {
   "cell_type": "code",
   "execution_count": 2,
   "metadata": {
    "collapsed": false
   },
   "outputs": [
    {
     "data": {
      "image/svg+xml": [
       "<?xml version=\"1.0\" encoding=\"UTF-8\" ?>\n",
       "<svg xmlns=\"http://www.w3.org/2000/svg\" version=\"1.1\">\n",
       "  <rect x='60' y='100' width='300' height='40' />\n",
       "  <rect x='10' y='10' width='40' height='400' />\n",
       "  <circle cx='250' cy='40' r='10' />\n",
       "</svg>\n"
      ],
      "text/plain": [
       "\"<?xml version=\\\"1.0\\\" encoding=\\\"UTF-8\\\" ?>\\n<svg xmlns=\\\"http://www.w3.org/2000/svg\\\" version=\\\"1.1\\\">\\n  <rect x='60' y='100' width='300' height='40' />\\n  <rect x='10' y='10' width='40' height='400' />\\n  <circle cx='250' cy='40' r='10' />\\n</svg>\\n\""
      ]
     },
     "execution_count": 2,
     "metadata": {},
     "output_type": "execute_result"
    }
   ],
   "source": [
    "class SvgBuilder\n",
    "  \n",
    "  def initialize()\n",
    "    @header = %Q(<?xml version=\"1.0\" encoding=\"UTF-8\" ?>\n",
    "<svg xmlns=\"http://www.w3.org/2000/svg\" version=\"1.1\">\\n)\n",
    "    \n",
    "    @tree = []\n",
    "  end\n",
    "  \n",
    "  def <<(element)\n",
    "    @tree << element\n",
    "  end\n",
    "  \n",
    "  def svg\n",
    "    s = ''\n",
    "    s << @header\n",
    "    @tree.each do |leaf|\n",
    "      e = \"  <#{leaf[:tag]} \"\n",
    "      leaf.each do |k, v|\n",
    "        next if k =~ /tag/\n",
    "        e << \"#{k}='#{v}' \"\n",
    "      end\n",
    "      e << \"/>\\n\"\n",
    "      s << e\n",
    "    end\n",
    "    s << \"</svg>\\n\"\n",
    "    s\n",
    "  end\n",
    "end\n",
    "\n",
    "builder = SvgBuilder.new\n",
    "builder << {tag: 'rect', x: 60, y: 100, width: 300, height: 40}\n",
    "builder << {tag: 'rect', x: 10, y: 10, width: 40, height: 400}\n",
    "builder << {tag: 'circle', cx: 250, cy: 40, r: 10}\n",
    "\n",
    "IRuby.svg builder.svg\n",
    "\n"
   ]
  },
  {
   "cell_type": "code",
   "execution_count": null,
   "metadata": {
    "collapsed": true
   },
   "outputs": [],
   "source": []
  }
 ],
 "metadata": {
  "kernelspec": {
   "display_name": "Ruby 2.1.5",
   "language": "ruby",
   "name": "ruby"
  },
  "language_info": {
   "file_extension": ".rb",
   "mimetype": "application/x-ruby",
   "name": "ruby",
   "version": "2.1.5"
  }
 },
 "nbformat": 4,
 "nbformat_minor": 2
}
