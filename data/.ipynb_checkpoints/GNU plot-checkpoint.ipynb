{
 "cells": [
  {
   "cell_type": "markdown",
   "metadata": {},
   "source": [
    "### Let's explore basic GnuPlot capability in IRuby / Jupyter"
   ]
  },
  {
   "cell_type": "code",
   "execution_count": 1,
   "metadata": {
    "collapsed": false
   },
   "outputs": [
    {
     "data": {
      "text/plain": [
       "true"
      ]
     },
     "execution_count": 1,
     "metadata": {},
     "output_type": "execute_result"
    }
   ],
   "source": [
    "require \"numo/gnuplot\""
   ]
  },
  {
   "cell_type": "code",
   "execution_count": 2,
   "metadata": {
    "collapsed": false
   },
   "outputs": [
    {
     "data": {
      "image/svg+xml": [
       "<?xml version=\"1.0\" encoding=\"utf-8\"  standalone=\"no\"?>\n",
       "<!DOCTYPE svg PUBLIC \"-//W3C//DTD SVG 1.1//EN\" \n",
       " \"http://www.w3.org/Graphics/SVG/1.1/DTD/svg11.dtd\">\n",
       "<svg \n",
       " width=\"600\" height=\"480\" \n",
       " viewBox=\"0 0 600 480\"\n",
       " xmlns=\"http://www.w3.org/2000/svg\"\n",
       " xmlns:xlink=\"http://www.w3.org/1999/xlink\"\n",
       ">\n",
       "\n",
       "<title>Gnuplot</title>\n",
       "<desc>Produced by GNUPLOT 4.6 patchlevel 6 </desc>\n",
       "\n",
       "<g id=\"gnuplot_canvas\">\n",
       "\n",
       "<rect x=\"0\" y=\"0\" width=\"600\" height=\"480\" fill=\"none\"/>\n",
       "<defs>\n",
       "\n",
       "\t<circle id='gpDot' r='0.5' stroke-width='0.5'/>\n",
       "\t<path id='gpPt0' stroke-width='0.222' stroke='currentColor' d='M-1,0 h2 M0,-1 v2'/>\n",
       "\t<path id='gpPt1' stroke-width='0.222' stroke='currentColor' d='M-1,-1 L1,1 M1,-1 L-1,1'/>\n",
       "\t<path id='gpPt2' stroke-width='0.222' stroke='currentColor' d='M-1,0 L1,0 M0,-1 L0,1 M-1,-1 L1,1 M-1,1 L1,-1'/>\n",
       "\t<rect id='gpPt3' stroke-width='0.222' stroke='currentColor' x='-1' y='-1' width='2' height='2'/>\n",
       "\t<rect id='gpPt4' stroke-width='0.222' stroke='currentColor' fill='currentColor' x='-1' y='-1' width='2' height='2'/>\n",
       "\t<circle id='gpPt5' stroke-width='0.222' stroke='currentColor' cx='0' cy='0' r='1'/>\n",
       "\t<use xlink:href='#gpPt5' id='gpPt6' fill='currentColor' stroke='none'/>\n",
       "\t<path id='gpPt7' stroke-width='0.222' stroke='currentColor' d='M0,-1.33 L-1.33,0.67 L1.33,0.67 z'/>\n",
       "\t<use xlink:href='#gpPt7' id='gpPt8' fill='currentColor' stroke='none'/>\n",
       "\t<use xlink:href='#gpPt7' id='gpPt9' stroke='currentColor' transform='rotate(180)'/>\n",
       "\t<use xlink:href='#gpPt9' id='gpPt10' fill='currentColor' stroke='none'/>\n",
       "\t<use xlink:href='#gpPt3' id='gpPt11' stroke='currentColor' transform='rotate(45)'/>\n",
       "\t<use xlink:href='#gpPt11' id='gpPt12' fill='currentColor' stroke='none'/>\n",
       "\t<filter id='greybox' filterUnits='objectBoundingBox' x='0' y='0' height='1' width='1'>\n",
       "\t  <feFlood flood-color='lightgrey' flood-opacity='1' result='grey'/>\n",
       "\t  <feComposite in='SourceGraphic' in2='grey' operator='atop'/>\n",
       "\t</filter>\n",
       "</defs>\n",
       "<g style=\"fill:none; color:white; stroke:currentColor; stroke-width:1.00; stroke-linecap:butt; stroke-linejoin:miter\">\n",
       "</g>\n",
       "<g style=\"fill:none; color:black; stroke:currentColor; stroke-width:1.00; stroke-linecap:butt; stroke-linejoin:miter\">\n",
       "\t<path stroke='black'  d='M53.9,444.0 L62.9,444.0 M575.0,444.0 L566.0,444.0  '/>\t<g transform=\"translate(45.6,448.5)\" style=\"stroke:none; fill:black; font-family:Arial; font-size:12.00pt; text-anchor:end\">\n",
       "\t\t<text>-1</text>\n",
       "\t</g>\n",
       "\t<path stroke='black'  d='M53.9,401.3 L62.9,401.3 M575.0,401.3 L566.0,401.3  '/>\t<g transform=\"translate(45.6,405.8)\" style=\"stroke:none; fill:black; font-family:Arial; font-size:12.00pt; text-anchor:end\">\n",
       "\t\t<text>-0.8</text>\n",
       "\t</g>\n",
       "\t<path stroke='black'  d='M53.9,358.5 L62.9,358.5 M575.0,358.5 L566.0,358.5  '/>\t<g transform=\"translate(45.6,363.0)\" style=\"stroke:none; fill:black; font-family:Arial; font-size:12.00pt; text-anchor:end\">\n",
       "\t\t<text>-0.6</text>\n",
       "\t</g>\n",
       "\t<path stroke='black'  d='M53.9,315.8 L62.9,315.8 M575.0,315.8 L566.0,315.8  '/>\t<g transform=\"translate(45.6,320.3)\" style=\"stroke:none; fill:black; font-family:Arial; font-size:12.00pt; text-anchor:end\">\n",
       "\t\t<text>-0.4</text>\n",
       "\t</g>\n",
       "\t<path stroke='black'  d='M53.9,273.1 L62.9,273.1 M575.0,273.1 L566.0,273.1  '/>\t<g transform=\"translate(45.6,277.6)\" style=\"stroke:none; fill:black; font-family:Arial; font-size:12.00pt; text-anchor:end\">\n",
       "\t\t<text>-0.2</text>\n",
       "\t</g>\n",
       "\t<path stroke='black'  d='M53.9,230.3 L62.9,230.3 M575.0,230.3 L566.0,230.3  '/>\t<g transform=\"translate(45.6,234.8)\" style=\"stroke:none; fill:black; font-family:Arial; font-size:12.00pt; text-anchor:end\">\n",
       "\t\t<text> 0</text>\n",
       "\t</g>\n",
       "\t<path stroke='black'  d='M53.9,187.6 L62.9,187.6 M575.0,187.6 L566.0,187.6  '/>\t<g transform=\"translate(45.6,192.1)\" style=\"stroke:none; fill:black; font-family:Arial; font-size:12.00pt; text-anchor:end\">\n",
       "\t\t<text> 0.2</text>\n",
       "\t</g>\n",
       "\t<path stroke='black'  d='M53.9,144.9 L62.9,144.9 M575.0,144.9 L566.0,144.9  '/>\t<g transform=\"translate(45.6,149.4)\" style=\"stroke:none; fill:black; font-family:Arial; font-size:12.00pt; text-anchor:end\">\n",
       "\t\t<text> 0.4</text>\n",
       "\t</g>\n",
       "\t<path stroke='black'  d='M53.9,102.2 L62.9,102.2 M575.0,102.2 L566.0,102.2  '/>\t<g transform=\"translate(45.6,106.7)\" style=\"stroke:none; fill:black; font-family:Arial; font-size:12.00pt; text-anchor:end\">\n",
       "\t\t<text> 0.6</text>\n",
       "\t</g>\n",
       "\t<path stroke='black'  d='M53.9,59.4 L62.9,59.4 M575.0,59.4 L566.0,59.4  '/>\t<g transform=\"translate(45.6,63.9)\" style=\"stroke:none; fill:black; font-family:Arial; font-size:12.00pt; text-anchor:end\">\n",
       "\t\t<text> 0.8</text>\n",
       "\t</g>\n",
       "\t<path stroke='black'  d='M53.9,16.7 L62.9,16.7 M575.0,16.7 L566.0,16.7  '/>\t<g transform=\"translate(45.6,21.2)\" style=\"stroke:none; fill:black; font-family:Arial; font-size:12.00pt; text-anchor:end\">\n",
       "\t\t<text> 1</text>\n",
       "\t</g>\n",
       "\t<path stroke='black'  d='M53.9,444.0 L53.9,435.0 M53.9,16.7 L53.9,25.7  '/>\t<g transform=\"translate(53.9,466.5)\" style=\"stroke:none; fill:black; font-family:Arial; font-size:12.00pt; text-anchor:middle\">\n",
       "\t\t<text> 0</text>\n",
       "\t</g>\n",
       "\t<path stroke='black'  d='M158.1,444.0 L158.1,435.0 M158.1,16.7 L158.1,25.7  '/>\t<g transform=\"translate(158.1,466.5)\" style=\"stroke:none; fill:black; font-family:Arial; font-size:12.00pt; text-anchor:middle\">\n",
       "\t\t<text> 2</text>\n",
       "\t</g>\n",
       "\t<path stroke='black'  d='M262.3,444.0 L262.3,435.0 M262.3,16.7 L262.3,25.7  '/>\t<g transform=\"translate(262.3,466.5)\" style=\"stroke:none; fill:black; font-family:Arial; font-size:12.00pt; text-anchor:middle\">\n",
       "\t\t<text> 4</text>\n",
       "\t</g>\n",
       "\t<path stroke='black'  d='M366.6,444.0 L366.6,435.0 M366.6,16.7 L366.6,25.7  '/>\t<g transform=\"translate(366.6,466.5)\" style=\"stroke:none; fill:black; font-family:Arial; font-size:12.00pt; text-anchor:middle\">\n",
       "\t\t<text> 6</text>\n",
       "\t</g>\n",
       "\t<path stroke='black'  d='M470.8,444.0 L470.8,435.0 M470.8,16.7 L470.8,25.7  '/>\t<g transform=\"translate(470.8,466.5)\" style=\"stroke:none; fill:black; font-family:Arial; font-size:12.00pt; text-anchor:middle\">\n",
       "\t\t<text> 8</text>\n",
       "\t</g>\n",
       "\t<path stroke='black'  d='M575.0,444.0 L575.0,435.0 M575.0,16.7 L575.0,25.7  '/>\t<g transform=\"translate(575.0,466.5)\" style=\"stroke:none; fill:black; font-family:Arial; font-size:12.00pt; text-anchor:middle\">\n",
       "\t\t<text> 10</text>\n",
       "\t</g>\n",
       "\t<path stroke='black'  d='M53.9,16.7 L53.9,444.0 L575.0,444.0 L575.0,16.7 L53.9,16.7 Z  '/>\t<path stroke='black'  d='M62.2,61.7 L62.2,25.7 L170.8,25.7 L170.8,61.7 L62.2,61.7 Z  '/></g>\n",
       "\t<g id=\"gnuplot_plot_1\" ><title>gnuplot_plot_1</title>\n",
       "<g style=\"fill:none; color:red; stroke:currentColor; stroke-width:1.00; stroke-linecap:butt; stroke-linejoin:miter\">\n",
       "\t<g transform=\"translate(112.0,39.2)\" style=\"stroke:none; fill:black; font-family:Arial; font-size:12.00pt; text-anchor:end\">\n",
       "\t\t<text>sin(x)</text>\n",
       "\t</g>\n",
       "\t<path  d='M120.3,34.7 L162.5,34.7 M53.9,230.3 L64.5,187.0 L75.2,145.5 L85.8,107.6 L96.4,74.7 L107.1,48.3 \n",
       "\t\tL117.7,29.4 L128.3,18.9 L139.0,17.1 L149.6,24.2 L160.2,39.9 L170.9,63.4 L181.5,93.9 L192.2,130.1 \n",
       "\t\tL202.8,170.4 L213.4,213.2 L224.1,256.7 L234.7,299.1 L245.3,338.7 L256.0,373.8 L266.6,402.9 L277.2,424.8 \n",
       "\t\tL287.9,438.7 L298.5,444.0 L309.1,440.3 L319.8,428.0 L330.4,407.4 L341.0,379.5 L351.7,345.4 L362.3,306.6 \n",
       "\t\tL372.9,264.5 L383.6,221.1 L394.2,178.0 L404.8,137.1 L415.5,100.1 L426.1,68.5 L436.7,43.6 L447.4,26.4 \n",
       "\t\tL458.0,17.7 L468.7,17.9 L479.3,26.8 L489.9,44.2 L500.6,69.4 L511.2,101.2 L521.8,138.3 L532.5,179.3 \n",
       "\t\tL543.1,222.4 L553.7,265.9 L564.4,307.8 L575.0,346.6  '/></g>\n",
       "\t</g>\n",
       "\t<g id=\"gnuplot_plot_2\" ><title>gnuplot_plot_2</title>\n",
       "<g style=\"fill:none; color:green; stroke:currentColor; stroke-width:1.00; stroke-linecap:butt; stroke-linejoin:miter\">\n",
       "\t<g transform=\"translate(112.0,57.2)\" style=\"stroke:none; fill:black; font-family:Arial; font-size:12.00pt; text-anchor:end\">\n",
       "\t\t<text>cos(x)</text>\n",
       "\t</g>\n",
       "\t<path  d='M120.3,52.7 L162.5,52.7 M53.9,16.7 L64.5,21.1 L75.2,34.3 L85.8,55.5 L96.4,84.0 L107.1,118.6 \n",
       "\t\tL117.7,157.8 L128.3,200.1 L139.0,243.6 L149.6,286.5 L160.2,327.1 L170.9,363.7 L181.5,394.8 L192.2,419.0 \n",
       "\t\tL202.8,435.4 L213.4,443.3 L224.1,442.4 L234.7,432.6 L245.3,414.5 L256.0,388.7 L266.6,356.4 L277.2,318.8 \n",
       "\t\tL287.9,277.5 L298.5,234.3 L309.1,190.9 L319.8,149.2 L330.4,110.8 L341.0,77.4 L351.7,50.4 L362.3,30.8 \n",
       "\t\tL372.9,19.5 L383.6,16.9 L394.2,23.2 L404.8,38.1 L415.5,61.0 L426.1,90.9 L436.7,126.6 L447.4,166.6 \n",
       "\t\tL458.0,209.3 L468.7,252.8 L479.3,295.4 L489.9,335.3 L500.6,370.8 L511.2,400.5 L521.8,423.2 L532.5,437.8 \n",
       "\t\tL543.1,443.9 L553.7,441.0 L564.4,429.5 L575.0,409.6  '/></g>\n",
       "\t</g>\n",
       "<g style=\"fill:none; color:black; stroke:currentColor; stroke-width:1.00; stroke-linecap:butt; stroke-linejoin:miter\">\n",
       "\t<path stroke='black'  d='M53.9,16.7 L53.9,444.0 L575.0,444.0 L575.0,16.7 L53.9,16.7 Z  '/></g>\n",
       "</g>\n",
       "</svg>\n",
       "\n"
      ],
      "text/plain": [
       "#<Numo::Gnuplot::NotePlot:0x000000024b4c20 @block=#<Proc:0x000000024b4bd0@<main>:0>>"
      ]
     },
     "execution_count": 2,
     "metadata": {},
     "output_type": "execute_result"
    }
   ],
   "source": [
    "Numo::Gnuplot::NotePlot.new do\n",
    "  set :key, :left, :box\n",
    "  set samples:50\n",
    "  plot  -0..10,\n",
    "    \"sin(x)\",\n",
    "    \"cos(x)\"\n",
    "end"
   ]
  },
  {
   "cell_type": "markdown",
   "metadata": {},
   "source": [
    "Full documentation and examples are available here.\n",
    "\n",
    "https://github.com/ruby-numo/gnuplot-demo/tree/master/gnuplot"
   ]
  }
 ],
 "metadata": {
  "kernelspec": {
   "display_name": "Ruby 2.1.5",
   "language": "ruby",
   "name": "ruby"
  },
  "language_info": {
   "file_extension": ".rb",
   "mimetype": "application/x-ruby",
   "name": "ruby",
   "version": "2.1.5"
  }
 },
 "nbformat": 4,
 "nbformat_minor": 2
}
